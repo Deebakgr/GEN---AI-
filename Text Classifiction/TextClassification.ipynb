{
  "nbformat": 4,
  "nbformat_minor": 0,
  "metadata": {
    "colab": {
      "provenance": []
    },
    "kernelspec": {
      "name": "python3",
      "display_name": "Python 3"
    },
    "language_info": {
      "name": "python"
    }
  },
  "cells": [
    {
      "cell_type": "code",
      "source": [
        "from transformers import BertModel, BertTokenizer\n",
        "import torch\n",
        "from sklearn.linear_model import LogisticRegression\n",
        "from sklearn.metrics import accuracy_score\n",
        "\n",
        "model = BertModel.from_pretrained('bert-base-uncased')\n",
        "tokenizer = BertTokenizer.from_pretrained('bert-base-uncased')\n",
        "\n",
        "def get_bert_embeddings(text):\n",
        "    tokens = tokenizer(text, padding='max_length', max_length=128, truncation=True, return_tensors='pt')\n",
        "    with torch.no_grad():\n",
        "        outputs = model(**tokens)\n",
        "    return outputs.last_hidden_state[:, 0, :].squeeze().numpy()\n",
        "\n",
        "X_train = [\n",
        "    get_bert_embeddings(\"Your free prize is waiting, click now!\"),\n",
        "    get_bert_embeddings(\"Hello friend, how are you?\"),\n",
        "    get_bert_embeddings(\"Special offer just for you, claim it now!\"),\n",
        "    get_bert_embeddings(\"Meeting rescheduled to next week.\")\n",
        "]\n",
        "y_train = [1, 0, 1, 0]\n",
        "\n",
        "classifier = LogisticRegression(max_iter=1000)\n",
        "classifier.fit(X_train, y_train)\n",
        "\n",
        "X_test = [\n",
        "    get_bert_embeddings(\"Limited time offer, buy now!\"),\n",
        "    get_bert_embeddings(\"Hey, are you coming to the party tonight?\"),\n",
        "    get_bert_embeddings(\"Get your free gift today, claim now!\"),\n",
        "    get_bert_embeddings(\"Let's catch up soon!\")\n",
        "]\n",
        "y_test = [1, 0, 1, 0]\n",
        "\n",
        "y_pred = [classifier.predict([embedding])[0] for embedding in X_test]\n",
        "\n",
        "accuracy = accuracy_score(y_test, y_pred)\n",
        "print(f'Accuracy: {accuracy:.4f}')\n",
        "\n",
        "def predict_spam(input_text):\n",
        "    embedding = get_bert_embeddings(input_text)\n",
        "    prediction = classifier.predict([embedding])[0]\n",
        "    print(f'The input: \"{input_text}\" is classified as: {\"Spam\" if prediction == 1 else \"Not Spam\"}')\n",
        "    return prediction\n",
        "\n",
        "input_text = input(\"Enter a message to classify as spam or not: \")\n",
        "predict_spam(input_text)\n"
      ],
      "metadata": {
        "colab": {
          "base_uri": "https://localhost:8080/"
        },
        "id": "PkWEAnxcx3-p",
        "outputId": "9241c1ba-66eb-4ae6-919f-117fbe521625"
      },
      "execution_count": 22,
      "outputs": [
        {
          "output_type": "stream",
          "name": "stdout",
          "text": [
            "Accuracy: 0.7500\n",
            "Enter a message to classify as spam or not: Get your gift today claim now!\n",
            "The input: \"Get your gift today claim now!\" is classified as: Spam\n"
          ]
        },
        {
          "output_type": "execute_result",
          "data": {
            "text/plain": [
              "1"
            ]
          },
          "metadata": {},
          "execution_count": 22
        }
      ]
    }
  ]
}