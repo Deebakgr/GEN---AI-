{
 "cells": [
  {
   "cell_type": "code",
   "execution_count": null,
   "metadata": {},
   "outputs": [],
   "source": [
    "import PyPDF2\n",
    "from sentence_transformers import SentenceTransformer, util\n",
    "from transformers import pipeline\n",
    "import numpy as np\n",
    "\n",
    "# Step 1: Extract text from PDF files\n",
    "def extract_text_from_pdf(file_path):\n",
    "    pdf_reader = PyPDF2.PdfReader(file_path)\n",
    "    text = \"\"\n",
    "    for page in pdf_reader.pages:\n",
    "        text += page.extract_text()\n",
    "    return text\n",
    "\n",
    "# Extract text from both PDFs\n",
    "pdf1_text = extract_text_from_pdf(\"/content/QA_System_Dense_Retrieval_BERT.pdf\")\n",
    "\n",
    "# Combine all text into a knowledge base\n",
    "knowledge_base = [pdf1_text]\n",
    "\n",
    "# Step 2: Dense Retrieval using Sentence-BERT\n",
    "model = SentenceTransformer('all-MiniLM-L6-v2')\n",
    "document_embeddings = model.encode(knowledge_base, convert_to_tensor=True)\n",
    "\n",
    "# Step 3: BERT for Question Answering\n",
    "qa_pipeline = pipeline('question-answering', model='bert-large-uncased-whole-word-masking-finetuned-squad')\n",
    "\n",
    "# Step 4: Answer a Question\n",
    "def get_answer(question):\n",
    "    # Encode the query\n",
    "    query_embedding = model.encode(question, convert_to_tensor=True)\n",
    "\n",
    "    # Find the most relevant document\n",
    "    scores = util.cos_sim(query_embedding, document_embeddings)[0]\n",
    "    top_result_idx = np.argmax(scores)\n",
    "    context = knowledge_base[top_result_idx]\n",
    "\n",
    "    # Use BERT QA pipeline to get the answer\n",
    "    result = qa_pipeline({'question': question, 'context': context})\n",
    "    return result['answer'], context\n",
    "\n",
    "# Example Query\n",
    "question = \"What is dense retrieval?\"\n",
    "answer, context = get_answer(question)\n",
    "\n",
    "# Output the result\n",
    "print(f\"Question: {question}\")\n",
    "print(f\"Answer: {answer}\")\n",
    "print(f\"Context: {context[:800]}...\")  # Display first 500 characters of the context\n"
   ]
  }
 ],
 "metadata": {
  "language_info": {
   "name": "python"
  }
 },
 "nbformat": 4,
 "nbformat_minor": 2
}
